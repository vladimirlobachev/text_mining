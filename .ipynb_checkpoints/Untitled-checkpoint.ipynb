{
 "cells": [
  {
   "cell_type": "code",
   "execution_count": 1,
   "metadata": {},
   "outputs": [],
   "source": [
    "import numpy as np\n",
    "import pandas as pd"
   ]
  },
  {
   "cell_type": "code",
   "execution_count": 16,
   "metadata": {},
   "outputs": [
    {
     "data": {
      "text/plain": [
       "(   Unnamed: 0                                              blurb       state\n",
       " 0           1  Using their own character, users go on educati...      failed\n",
       " 1           2  MicroFly is a quadcopter packed with WiFi, 6 s...  successful\n",
       " 2           3  A small indie press, run as a collective for a...      failed\n",
       " 3           4  Zylor is a new baby cosplayer! Back this kicks...      failed\n",
       " 4           5  Hatoful Boyfriend meet Skeletons! A comedy Dat...      failed,\n",
       " (215513, 3))"
      ]
     },
     "execution_count": 16,
     "metadata": {},
     "output_type": "execute_result"
    }
   ],
   "source": [
    "df = pd.read_csv(\"/Users/vvl/Downloads/df_text_eng.csv\")\n",
    "df.head(5), df.shape"
   ]
  },
  {
   "cell_type": "code",
   "execution_count": 12,
   "metadata": {},
   "outputs": [
    {
     "data": {
      "text/plain": [
       "('Using their own character, users go on educational quests around a virtual world leveling up subject-oriented skills (ie Physics).',\n",
       " 'MicroFly is a quadcopter packed with WiFi, 6 sensors, and 3 processors for ultimate stability -- and fits in the palm of your hand.')"
      ]
     },
     "execution_count": 12,
     "metadata": {},
     "output_type": "execute_result"
    }
   ],
   "source": [
    "df.loc[0].blurb, df.loc[1].blurb "
   ]
  },
  {
   "cell_type": "code",
   "execution_count": 52,
   "metadata": {},
   "outputs": [],
   "source": [
    "df = df.fillna(value={'blurb':'', 'state':'failed'})"
   ]
  },
  {
   "cell_type": "code",
   "execution_count": 65,
   "metadata": {},
   "outputs": [
    {
     "data": {
      "text/plain": [
       "((150859,), (64654,), (150859,), (64654,))"
      ]
     },
     "execution_count": 65,
     "metadata": {},
     "output_type": "execute_result"
    }
   ],
   "source": [
    "from sklearn.model_selection import train_test_split\n",
    "x_train, x_test, y_train, y_test = train_test_split(df['blurb'], df['state'], test_size=0.3, random_state=2020)\n",
    "x_train.shape, x_test.shape, y_train.shape, y_test.shape"
   ]
  },
  {
   "cell_type": "code",
   "execution_count": null,
   "metadata": {},
   "outputs": [
    {
     "name": "stdout",
     "output_type": "stream",
     "text": [
      "-- Epoch 1\n",
      "Norm: 22.88, NNZs: 67421, Bias: 0.139271, T: 100572, Avg. loss: 0.627350\n",
      "Total training time: 0.02 seconds.\n",
      "-- Epoch 2\n",
      "Norm: 22.66, NNZs: 67421, Bias: 0.139389, T: 201144, Avg. loss: 0.610248\n",
      "Total training time: 0.03 seconds.\n",
      "-- Epoch 3\n",
      "Norm: 22.60, NNZs: 67421, Bias: 0.137990, T: 301716, Avg. loss: 0.607869\n",
      "Total training time: 0.05 seconds.\n",
      "-- Epoch 4\n",
      "Norm: 22.57, NNZs: 67421, Bias: 0.136594, T: 402288, Avg. loss: 0.606840\n",
      "Total training time: 0.07 seconds.\n",
      "-- Epoch 5\n",
      "Norm: 22.55, NNZs: 67421, Bias: 0.135525, T: 502860, Avg. loss: 0.606263\n",
      "Total training time: 0.09 seconds.\n",
      "-- Epoch 6\n",
      "Norm: 22.54, NNZs: 67421, Bias: 0.134759, T: 603432, Avg. loss: 0.605894\n",
      "Total training time: 0.11 seconds.\n",
      "-- Epoch 7\n",
      "Norm: 22.53, NNZs: 67421, Bias: 0.134219, T: 704004, Avg. loss: 0.605637\n",
      "Total training time: 0.12 seconds.\n",
      "-- Epoch 8\n",
      "Norm: 22.52, NNZs: 67421, Bias: 0.133839, T: 804576, Avg. loss: 0.605448\n",
      "Total training time: 0.14 seconds.\n",
      "-- Epoch 9\n",
      "Norm: 22.52, NNZs: 67421, Bias: 0.133572, T: 905148, Avg. loss: 0.605303\n",
      "Total training time: 0.16 seconds.\n",
      "Convergence after 9 epochs took 0.16 seconds\n",
      "-- Epoch 1\n",
      "Norm: 22.93, NNZs: 67497, Bias: 0.137857, T: 100573, Avg. loss: 0.626341\n",
      "Total training time: 0.02 seconds.\n",
      "-- Epoch 2\n",
      "Norm: 22.74, NNZs: 67497, Bias: 0.138185, T: 201146, Avg. loss: 0.609750\n",
      "Total training time: 0.04 seconds.\n",
      "-- Epoch 3\n",
      "Norm: 22.69, NNZs: 67497, Bias: 0.137437, T: 301719, Avg. loss: 0.607421\n",
      "Total training time: 0.05 seconds.\n",
      "-- Epoch 4\n",
      "Norm: 22.66, NNZs: 67497, Bias: 0.136407, T: 402292, Avg. loss: 0.606410\n",
      "Total training time: 0.07 seconds.\n",
      "-- Epoch 5\n",
      "Norm: 22.65, NNZs: 67497, Bias: 0.135564, T: 502865, Avg. loss: 0.605840\n",
      "Total training time: 0.09 seconds.\n",
      "-- Epoch 6\n",
      "Norm: 22.64, NNZs: 67497, Bias: 0.134966, T: 603438, Avg. loss: 0.605474\n",
      "Total training time: 0.11 seconds.\n",
      "-- Epoch 7\n",
      "Norm: 22.63, NNZs: 67497, Bias: 0.134568, T: 704011, Avg. loss: 0.605218\n",
      "Total training time: 0.13 seconds.\n",
      "-- Epoch 8\n",
      "Norm: 22.63, NNZs: 67497, Bias: 0.134316, T: 804584, Avg. loss: 0.605030\n",
      "Total training time: 0.15 seconds.\n",
      "-- Epoch 9\n",
      "Norm: 22.63, NNZs: 67497, Bias: 0.134169, T: 905157, Avg. loss: 0.604886\n",
      "Total training time: 0.16 seconds.\n",
      "Convergence after 9 epochs took 0.16 seconds\n",
      "-- Epoch 1\n",
      "Norm: 22.96, NNZs: 67043, Bias: 0.053890, T: 100573, Avg. loss: 0.626995\n",
      "Total training time: 0.02 seconds.\n",
      "-- Epoch 2\n",
      "Norm: 22.69, NNZs: 67043, Bias: 0.092663, T: 201146, Avg. loss: 0.610415\n",
      "Total training time: 0.04 seconds.\n",
      "-- Epoch 3\n",
      "Norm: 22.62, NNZs: 67043, Bias: 0.105855, T: 301719, Avg. loss: 0.608024\n",
      "Total training time: 0.06 seconds.\n",
      "-- Epoch 4\n",
      "Norm: 22.59, NNZs: 67043, Bias: 0.112283, T: 402292, Avg. loss: 0.606994\n",
      "Total training time: 0.09 seconds.\n",
      "-- Epoch 5\n",
      "Norm: 22.57, NNZs: 67043, Bias: 0.116099, T: 502865, Avg. loss: 0.606417\n",
      "Total training time: 0.11 seconds.\n",
      "-- Epoch 6\n",
      "Norm: 22.56, NNZs: 67043, Bias: 0.118666, T: 603438, Avg. loss: 0.606048\n",
      "Total training time: 0.13 seconds.\n",
      "-- Epoch 7\n",
      "Norm: 22.55, NNZs: 67043, Bias: 0.120543, T: 704011, Avg. loss: 0.605792\n",
      "Total training time: 0.15 seconds.\n",
      "-- Epoch 8\n",
      "Norm: 22.54, NNZs: 67043, Bias: 0.121993, T: 804584, Avg. loss: 0.605603\n",
      "Total training time: 0.17 seconds.\n",
      "-- Epoch 9\n",
      "Norm: 22.54, NNZs: 67043, Bias: 0.123156, T: 905157, Avg. loss: 0.605459\n",
      "Total training time: 0.19 seconds.\n",
      "Convergence after 9 epochs took 0.19 seconds\n",
      "-- Epoch 1\n",
      "Norm: 23.12, NNZs: 67121, Bias: 0.079253, T: 100572, Avg. loss: 0.631759\n",
      "Total training time: 0.02 seconds.\n",
      "-- Epoch 2\n",
      "Norm: 22.89, NNZs: 67121, Bias: 0.075742, T: 201144, Avg. loss: 0.614785\n",
      "Total training time: 0.03 seconds.\n",
      "-- Epoch 3\n",
      "Norm: 22.83, NNZs: 67121, Bias: 0.071717, T: 301716, Avg. loss: 0.612328\n",
      "Total training time: 0.05 seconds.\n",
      "-- Epoch 4\n",
      "Norm: 22.80, NNZs: 67121, Bias: 0.069292, T: 402288, Avg. loss: 0.611268\n",
      "Total training time: 0.07 seconds.\n",
      "-- Epoch 5\n",
      "Norm: 22.78, NNZs: 67121, Bias: 0.067900, T: 502860, Avg. loss: 0.610674\n",
      "Total training time: 0.08 seconds.\n",
      "-- Epoch 6\n",
      "Norm: 22.77, NNZs: 67121, Bias: 0.067104, T: 603432, Avg. loss: 0.610295\n",
      "Total training time: 0.10 seconds.\n",
      "-- Epoch 7\n",
      "Norm: 22.76, NNZs: 67121, Bias: 0.066658, T: 704004, Avg. loss: 0.610031\n",
      "Total training time: 0.12 seconds.\n",
      "-- Epoch 8\n",
      "Norm: 22.75, NNZs: 67121, Bias: 0.066422, T: 804576, Avg. loss: 0.609837\n",
      "Total training time: 0.14 seconds.\n",
      "-- Epoch 9\n",
      "Norm: 22.75, NNZs: 67121, Bias: 0.066313, T: 905148, Avg. loss: 0.609688\n",
      "Total training time: 0.16 seconds.\n",
      "Convergence after 9 epochs took 0.16 seconds\n",
      "-- Epoch 1\n",
      "Norm: 23.17, NNZs: 67197, Bias: 0.077525, T: 100573, Avg. loss: 0.630823\n",
      "Total training time: 0.02 seconds.\n",
      "-- Epoch 2\n",
      "Norm: 22.96, NNZs: 67197, Bias: 0.070924, T: 201146, Avg. loss: 0.614307\n",
      "Total training time: 0.04 seconds.\n",
      "-- Epoch 3\n",
      "Norm: 22.91, NNZs: 67197, Bias: 0.066136, T: 301719, Avg. loss: 0.611885\n",
      "Total training time: 0.06 seconds.\n",
      "-- Epoch 4\n",
      "Norm: 22.88, NNZs: 67197, Bias: 0.063469, T: 402292, Avg. loss: 0.610833\n",
      "Total training time: 0.08 seconds.\n",
      "-- Epoch 5\n",
      "Norm: 22.87, NNZs: 67197, Bias: 0.062088, T: 502865, Avg. loss: 0.610243\n",
      "Total training time: 0.09 seconds.\n",
      "-- Epoch 6\n",
      "Norm: 22.86, NNZs: 67197, Bias: 0.061407, T: 603438, Avg. loss: 0.609865\n",
      "Total training time: 0.11 seconds.\n",
      "-- Epoch 7\n",
      "Norm: 22.86, NNZs: 67197, Bias: 0.061100, T: 704011, Avg. loss: 0.609602\n",
      "Total training time: 0.13 seconds.\n",
      "-- Epoch 8\n",
      "Norm: 22.85, NNZs: 67197, Bias: 0.060991, T: 804584, Avg. loss: 0.609409\n",
      "Total training time: 0.14 seconds.\n",
      "-- Epoch 9\n",
      "Norm: 22.85, NNZs: 67197, Bias: 0.060984, T: 905157, Avg. loss: 0.609260\n",
      "Total training time: 0.16 seconds.\n",
      "Convergence after 9 epochs took 0.16 seconds\n",
      "-- Epoch 1\n",
      "Norm: 23.11, NNZs: 66742, Bias: -0.006955, T: 100573, Avg. loss: 0.631437\n",
      "Total training time: 0.02 seconds.\n",
      "-- Epoch 2\n",
      "Norm: 22.86, NNZs: 66742, Bias: 0.027625, T: 201146, Avg. loss: 0.614997\n",
      "Total training time: 0.03 seconds.\n",
      "-- Epoch 3\n",
      "Norm: 22.80, NNZs: 66742, Bias: 0.038664, T: 301719, Avg. loss: 0.612556\n",
      "Total training time: 0.05 seconds.\n",
      "-- Epoch 4\n",
      "Norm: 22.77, NNZs: 66742, Bias: 0.044360, T: 402292, Avg. loss: 0.611501\n",
      "Total training time: 0.07 seconds.\n",
      "-- Epoch 5\n",
      "Norm: 22.75, NNZs: 66742, Bias: 0.048027, T: 502865, Avg. loss: 0.610911\n",
      "Total training time: 0.09 seconds.\n",
      "-- Epoch 6\n",
      "Norm: 22.74, NNZs: 66742, Bias: 0.050639, T: 603438, Avg. loss: 0.610532\n",
      "Total training time: 0.10 seconds.\n",
      "-- Epoch 7\n",
      "Norm: 22.73, NNZs: 66742, Bias: 0.052593, T: 704011, Avg. loss: 0.610270\n",
      "Total training time: 0.12 seconds.\n",
      "-- Epoch 8\n",
      "Norm: 22.73, NNZs: 66742, Bias: 0.054098, T: 804584, Avg. loss: 0.610076\n",
      "Total training time: 0.13 seconds.\n",
      "-- Epoch 9\n",
      "Norm: 22.72, NNZs: 66742, Bias: 0.055281, T: 905157, Avg. loss: 0.609928\n",
      "Total training time: 0.15 seconds.\n",
      "Convergence after 9 epochs took 0.15 seconds\n",
      "-- Epoch 1\n",
      "Norm: 24.17, NNZs: 757915, Bias: 0.105816, T: 100572, Avg. loss: 0.637813\n",
      "Total training time: 0.05 seconds.\n",
      "-- Epoch 2\n",
      "Norm: 24.03, NNZs: 757915, Bias: 0.096874, T: 201144, Avg. loss: 0.621627\n",
      "Total training time: 0.11 seconds.\n",
      "-- Epoch 3\n",
      "Norm: 23.98, NNZs: 757915, Bias: 0.091576, T: 301716, Avg. loss: 0.619217\n",
      "Total training time: 0.16 seconds.\n",
      "-- Epoch 4\n",
      "Norm: 23.95, NNZs: 757915, Bias: 0.088835, T: 402288, Avg. loss: 0.618176\n",
      "Total training time: 0.22 seconds.\n",
      "-- Epoch 5\n",
      "Norm: 23.93, NNZs: 757915, Bias: 0.087407, T: 502860, Avg. loss: 0.617595\n",
      "Total training time: 0.27 seconds.\n",
      "-- Epoch 6\n",
      "Norm: 23.91, NNZs: 757915, Bias: 0.086662, T: 603432, Avg. loss: 0.617223\n",
      "Total training time: 0.32 seconds.\n",
      "-- Epoch 7\n",
      "Norm: 23.90, NNZs: 757915, Bias: 0.086289, T: 704004, Avg. loss: 0.616965\n",
      "Total training time: 0.37 seconds.\n",
      "-- Epoch 8\n",
      "Norm: 23.90, NNZs: 757915, Bias: 0.086127, T: 804576, Avg. loss: 0.616776\n",
      "Total training time: 0.42 seconds.\n",
      "-- Epoch 9\n",
      "Norm: 23.89, NNZs: 757915, Bias: 0.086087, T: 905148, Avg. loss: 0.616630\n",
      "Total training time: 0.47 seconds.\n",
      "Convergence after 9 epochs took 0.47 seconds\n"
     ]
    }
   ],
   "source": [
    "from sklearn.feature_extraction.text import TfidfVectorizer\n",
    "from sklearn.linear_model import SGDClassifier\n",
    "from sklearn.pipeline import Pipeline\n",
    "from sklearn.model_selection import GridSearchCV\n",
    "from tqdm.notebook import tqdm\n",
    "\n",
    "pipeline = Pipeline([\n",
    "    (\"vec\", TfidfVectorizer()),\n",
    "    (\"clf\", SGDClassifier(loss='log', max_iter=50, shuffle=False))\n",
    "])\n",
    "\n",
    "param_grid = {\n",
    "    \"vec__stop_words\": [None, \"english\"],\n",
    "    \"vec__ngram_range\":[(1,1), (1,2)],\n",
    "    \"clf__alpha\": [1e-4, 1e-3, 1e-2]\n",
    "}\n",
    "pipeline_grid = GridSearchCV(estimator=pipeline, param_grid=param_grid, cv=3, verbose=1)\n",
    "pipeline_grid.fit(x_train, y_train)"
   ]
  },
  {
   "cell_type": "code",
   "execution_count": null,
   "metadata": {},
   "outputs": [],
   "source": [
    "from sklearn.model_selection import cross_val_score\n",
    "cv_score = cross_val_score(pipeline, texts_train, y_train, cv=3)\n",
    "print(\"Average accuracy on cross-validaion:\", np.mean(cv_score))\n",
    "print(\"Accuracy on test\", accuracy_score(y_test, pipeline_grid_search.predict(texts_test)))"
   ]
  }
 ],
 "metadata": {
  "kernelspec": {
   "display_name": "Python 3",
   "language": "python",
   "name": "python3"
  },
  "language_info": {
   "codemirror_mode": {
    "name": "ipython",
    "version": 3
   },
   "file_extension": ".py",
   "mimetype": "text/x-python",
   "name": "python",
   "nbconvert_exporter": "python",
   "pygments_lexer": "ipython3",
   "version": "3.7.4"
  }
 },
 "nbformat": 4,
 "nbformat_minor": 2
}
