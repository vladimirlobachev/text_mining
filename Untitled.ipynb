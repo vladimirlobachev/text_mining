{
 "cells": [
  {
   "cell_type": "markdown",
   "metadata": {},
   "source": [
    "## Imports and Backups"
   ]
  },
  {
   "cell_type": "code",
   "execution_count": 1,
   "metadata": {},
   "outputs": [],
   "source": [
    "import numpy as np\n",
    "import pandas as pd\n",
    "import matplotlib.pyplot as plt\n",
    "from pprint import pprint\n",
    "\n",
    "import warnings\n",
    "warnings.filterwarnings('ignore')"
   ]
  },
  {
   "cell_type": "code",
   "execution_count": null,
   "metadata": {},
   "outputs": [],
   "source": [
    "import dill\n",
    "# dill.dump_session('project_notebook.db')\n",
    "dill.dump_session('project_notebook_2.db')"
   ]
  },
  {
   "cell_type": "markdown",
   "metadata": {},
   "source": [
    "## Loading and clearing the Data"
   ]
  },
  {
   "cell_type": "code",
   "execution_count": 2,
   "metadata": {},
   "outputs": [
    {
     "data": {
      "text/plain": [
       "(   Unnamed: 0                                              blurb       state\n",
       " 0           1  Using their own character, users go on educati...      failed\n",
       " 1           2  MicroFly is a quadcopter packed with WiFi, 6 s...  successful\n",
       " 2           3  A small indie press, run as a collective for a...      failed\n",
       " 3           4  Zylor is a new baby cosplayer! Back this kicks...      failed\n",
       " 4           5  Hatoful Boyfriend meet Skeletons! A comedy Dat...      failed,\n",
       " (215513, 3))"
      ]
     },
     "execution_count": 2,
     "metadata": {},
     "output_type": "execute_result"
    }
   ],
   "source": [
    "df = pd.read_csv(\"/Users/vvl/Downloads/df_text_eng.csv\")\n",
    "df.head(5), df.shape"
   ]
  },
  {
   "cell_type": "code",
   "execution_count": 3,
   "metadata": {},
   "outputs": [
    {
     "data": {
      "text/plain": [
       "('Using their own character, users go on educational quests around a virtual world leveling up subject-oriented skills (ie Physics).',\n",
       " 'MicroFly is a quadcopter packed with WiFi, 6 sensors, and 3 processors for ultimate stability -- and fits in the palm of your hand.')"
      ]
     },
     "execution_count": 3,
     "metadata": {},
     "output_type": "execute_result"
    }
   ],
   "source": [
    "df.loc[0].blurb, df.loc[1].blurb "
   ]
  },
  {
   "cell_type": "code",
   "execution_count": 4,
   "metadata": {},
   "outputs": [],
   "source": [
    "df = df.fillna(value={'blurb':'', 'state':'failed'})\n",
    "df[\"state\"] = df[\"state\"].map({'successful': 1, 'failed': 0})"
   ]
  },
  {
   "cell_type": "code",
   "execution_count": 5,
   "metadata": {},
   "outputs": [
    {
     "name": "stdout",
     "output_type": "stream",
     "text": [
      "Failed startups: 107203\n",
      "Succeded startups: 108310\n"
     ]
    }
   ],
   "source": [
    "print(\"Failed startups:\",df.loc[df.state == 0, 'state'].count())\n",
    "print(\"Succeded startups:\",df.loc[df.state == 1, 'state'].count())"
   ]
  },
  {
   "cell_type": "markdown",
   "metadata": {},
   "source": [
    "## Vectorization and Classification using grid search parameters"
   ]
  },
  {
   "cell_type": "code",
   "execution_count": 6,
   "metadata": {},
   "outputs": [
    {
     "data": {
      "text/plain": [
       "((150859,), (64654,), (150859,), (64654,))"
      ]
     },
     "execution_count": 6,
     "metadata": {},
     "output_type": "execute_result"
    }
   ],
   "source": [
    "from sklearn.model_selection import train_test_split\n",
    "x_train, x_test, y_train, y_test = train_test_split(df['blurb'], df['state'], test_size=0.3, random_state=2020)\n",
    "x_train.shape, x_test.shape, y_train.shape, y_test.shape"
   ]
  },
  {
   "cell_type": "code",
   "execution_count": 7,
   "metadata": {},
   "outputs": [],
   "source": [
    "from sklearn.feature_extraction.text import TfidfVectorizer\n",
    "from sklearn.linear_model import SGDClassifier\n",
    "from sklearn.pipeline import Pipeline\n",
    "from sklearn.model_selection import GridSearchCV\n",
    "from tqdm.notebook import tqdm\n",
    "\n",
    "pipeline = Pipeline([\n",
    "    (\"vec\", TfidfVectorizer()),\n",
    "    (\"clf\", SGDClassifier(loss='log', max_iter=50, shuffle=False))\n",
    "])\n",
    "\n",
    "param_grid = {\n",
    "    \"vec__stop_words\": [None, \"english\"],\n",
    "    \"vec__ngram_range\":[(1,1), (1,2)],\n",
    "    \"clf__alpha\": [1e-4, 1e-3, 1e-2]\n",
    "}\n",
    "pipeline_grid = GridSearchCV(estimator=pipeline, param_grid=param_grid, cv=3)"
   ]
  },
  {
   "cell_type": "code",
   "execution_count": 9,
   "metadata": {},
   "outputs": [
    {
     "data": {
      "text/plain": [
       "GridSearchCV(cv=3, error_score='raise-deprecating',\n",
       "             estimator=Pipeline(memory=None,\n",
       "                                steps=[('vec',\n",
       "                                        TfidfVectorizer(analyzer='word',\n",
       "                                                        binary=False,\n",
       "                                                        decode_error='strict',\n",
       "                                                        dtype=<class 'numpy.float64'>,\n",
       "                                                        encoding='utf-8',\n",
       "                                                        input='content',\n",
       "                                                        lowercase=True,\n",
       "                                                        max_df=1.0,\n",
       "                                                        max_features=None,\n",
       "                                                        min_df=1,\n",
       "                                                        ngram_range=(1, 1),\n",
       "                                                        norm='l2',\n",
       "                                                        preprocessor=None,\n",
       "                                                        smooth_idf=True,\n",
       "                                                        stop_words=...\n",
       "                                                      n_jobs=None, penalty='l2',\n",
       "                                                      power_t=0.5,\n",
       "                                                      random_state=None,\n",
       "                                                      shuffle=False, tol=0.001,\n",
       "                                                      validation_fraction=0.1,\n",
       "                                                      verbose=0,\n",
       "                                                      warm_start=False))],\n",
       "                                verbose=False),\n",
       "             iid='warn', n_jobs=None,\n",
       "             param_grid={'clf__alpha': [0.0001, 0.001, 0.01],\n",
       "                         'vec__ngram_range': [(1, 1), (1, 2)],\n",
       "                         'vec__stop_words': [None, 'english']},\n",
       "             pre_dispatch='2*n_jobs', refit=True, return_train_score=False,\n",
       "             scoring=None, verbose=0)"
      ]
     },
     "execution_count": 9,
     "metadata": {},
     "output_type": "execute_result"
    }
   ],
   "source": [
    "pipeline.fit(x_train, y_train)\n",
    "pipeline_grid.fit(x_train, y_train)"
   ]
  },
  {
   "cell_type": "code",
   "execution_count": 10,
   "metadata": {},
   "outputs": [
    {
     "name": "stdout",
     "output_type": "stream",
     "text": [
      "Average accuracy on cross-validaion with default specs 0.665880075889616\n",
      "Average accuracy on cross-validaion using grid 0.665880075889616\n",
      "Accuracy on test with default specs 0.666254214743094\n",
      "Accuracy on test with default specs 0.666254214743094\n"
     ]
    }
   ],
   "source": [
    "from sklearn.model_selection import cross_val_score\n",
    "from sklearn.metrics import accuracy_score\n",
    "\n",
    "cv_score = cross_val_score(pipeline, x_train, y_train, cv=3)\n",
    "print(\"Average accuracy on cross-validaion with default specs\", np.mean(cross_val_score(pipeline, x_train, y_train, cv=3)))\n",
    "print(\"Average accuracy on cross-validaion using grid\", np.mean(cross_val_score(pipeline_grid, x_train, y_train, cv=3)))\n",
    "print(\"Accuracy on test with default specs\", accuracy_score(y_test, pipeline.predict(x_test)))\n",
    "print(\"Accuracy on test with using grid\", accuracy_score(y_test, pipeline_grid.predict(x_test)))"
   ]
  },
  {
   "cell_type": "markdown",
   "metadata": {},
   "source": [
    "## Trying out different classification algorithms with tfidf"
   ]
  },
  {
   "cell_type": "code",
   "execution_count": 12,
   "metadata": {},
   "outputs": [],
   "source": [
    "from sklearn.linear_model import LogisticRegression\n",
    "from sklearn.svm import SVC\n",
    "from sklearn.naive_bayes import MultinomialNB\n",
    "\n",
    "vec = TfidfVectorizer()\n",
    "vec.fit(x_train)\n",
    "X_train = vec.transform(x_train)\n",
    "X_test = vec.transform(x_test)\n",
    "\n",
    "models = {\n",
    "    ('LogisticRegression', LogisticRegression()),\n",
    "    ('SVC', SVC()),\n",
    "    ('MutlinominalNB', MultinomialNB()),\n",
    "}\n",
    "\n",
    "def train_models(models=models):\n",
    "    accuracies = []\n",
    "    for model in models:\n",
    "        model[1].fit(X_train, y_train)\n",
    "        pred = model[1].predict(X_test)\n",
    "        accuracies.append((model[0], accuracy_score(y_test, pred)))\n",
    "    return accuracies\n"
   ]
  },
  {
   "cell_type": "code",
   "execution_count": null,
   "metadata": {},
   "outputs": [],
   "source": [
    "for model in train_models():\n",
    "    print('Accuracy on test by',model[0],'with default specs:',model[1])"
   ]
  },
  {
   "cell_type": "markdown",
   "metadata": {},
   "source": [
    "## Topic Modelling"
   ]
  },
  {
   "cell_type": "code",
   "execution_count": 61,
   "metadata": {},
   "outputs": [
    {
     "data": {
      "application/vnd.jupyter.widget-view+json": {
       "model_id": "affb4ca70d5744fbad71e3951a0aaaf2",
       "version_major": 2,
       "version_minor": 0
      },
      "text/plain": [
       "HBox(children=(IntProgress(value=0, max=215513), HTML(value='')))"
      ]
     },
     "metadata": {},
     "output_type": "display_data"
    },
    {
     "name": "stdout",
     "output_type": "stream",
     "text": [
      "\n"
     ]
    },
    {
     "data": {
      "text/plain": [
       "['use',\n",
       " 'own',\n",
       " 'character',\n",
       " 'user',\n",
       " 'go',\n",
       " 'educational',\n",
       " 'quest',\n",
       " 'virtual',\n",
       " 'world',\n",
       " 'level',\n",
       " 'subject',\n",
       " 'orient',\n",
       " 'skill']"
      ]
     },
     "execution_count": 61,
     "metadata": {},
     "output_type": "execute_result"
    }
   ],
   "source": [
    "import spacy\n",
    "nlp = spacy.load(\"en\", disable=['parser', 'ner'])\n",
    "def tokens(s):\n",
    "    return [t.lemma_ for t in nlp(s) if t.pos_ in ['NOUN', 'ADJ', 'VERB', 'ADV']]\n",
    "\n",
    "train_documents = [tokens(t) for t in tqdm(df['blurb'])]\n",
    "train_documents[0]"
   ]
  },
  {
   "cell_type": "code",
   "execution_count": 81,
   "metadata": {},
   "outputs": [
    {
     "data": {
      "text/plain": [
       "('user', 12908, 215513)"
      ]
     },
     "execution_count": 81,
     "metadata": {},
     "output_type": "execute_result"
    }
   ],
   "source": [
    "from gensim.corpora import Dictionary\n",
    "dictionary = Dictionary(train_documents)\n",
    "dictionary.filter_extremes(no_below=5, no_above=0.5)\n",
    "corpus = [dictionary.doc2bow(doc) for doc in train_documents]\n",
    "dictionary[10], len(dictionary), len(corpus)"
   ]
  },
  {
   "cell_type": "code",
   "execution_count": 83,
   "metadata": {},
   "outputs": [
    {
     "data": {
      "application/vnd.jupyter.widget-view+json": {
       "model_id": "f1087e27b415481eaefd0f73be4cc33b",
       "version_major": 2,
       "version_minor": 0
      },
      "text/plain": [
       "HBox(children=(IntProgress(value=0, max=10), HTML(value='')))"
      ]
     },
     "metadata": {},
     "output_type": "display_data"
    },
    {
     "name": "stdout",
     "output_type": "stream",
     "text": [
      "\n"
     ]
    },
    {
     "data": {
      "image/png": "[encoded data removed]",
      "text/plain": [
       "<Figure size 432x288 with 1 Axes>"
      ]
     },
     "metadata": {
      "needs_background": "light"
     },
     "output_type": "display_data"
    }
   ],
   "source": [
    "from gensim.models import LdaModel\n",
    "from gensim.models import CoherenceModel\n",
    "\n",
    "coherences = []\n",
    "for i in tqdm(range(10)):\n",
    "    lda = LdaModel(corpus, id2word=dictionary.id2token, num_topics=i+1, passes=5)\n",
    "    cm = CoherenceModel(model=lda, texts=train_documents, dictionary=dictionary, coherence='c_v', topn=10)\n",
    "    coherences.append(cm.get_coherence())\n",
    "plt.plot(list(range(1,11)), coherences)\n",
    "plt.show()"
   ]
  },
  {
   "cell_type": "code",
   "execution_count": 100,
   "metadata": {},
   "outputs": [],
   "source": [
    "lda = LdaModel(corpus, id2word=dictionary.id2token, num_topics=9, passes=10)"
   ]
  },
  {
   "cell_type": "code",
   "execution_count": 101,
   "metadata": {},
   "outputs": [
    {
     "data": {
      "text/html": [
       "\n",
       "<link rel=\"stylesheet\" type=\"text/css\" href=\"https://cdn.rawgit.com/bmabey/pyLDAvis/files/ldavis.v1.0.0.css\">\n",
       "\n",
       "\n",
       "<div id=\"ldavis_el1160057631715366420197481\"></div>\n",
       "<script type=\"text/javascript\">\n",
       "\n",
       "var ldavis_el1160057631715366420197481_data = {\"mdsDat\": {\"x\": [-0.11392513062509384, -0.20935222996652683, 0.01842314953529991, -0.16650016849260035, -0.012044152177915988, 0.015419536286753474, -0.08351664403644386, 0.16230572706577365, 0.38918991241075335], \"y\": [0.1755622967136956, 0.019013166443749972, -0.08358516641957531, -0.10238875202268452, 0.2684103111999003, -0.2612948208456308, -0.12925438514322557, 0.17298297015822192, -0.05944562008445122], \"topics\": [1, 2, 3, 4, 5, 6, 7, 8, 9], \"cluster\": [1, 1, 1, 1, 1, 1, 1, 1, 1], \"Freq\": [15.483142852783203, 15.115235328674316, 12.505173683166504, 12.425736427307129, 11.004175186157227, 9.841487884521484, 9.4348783493042, 8.152735710144043, 6.037435054779053]}, \"tinfo\": {\"Category\": [\"Default\", \"Default\", \"Default\", \"Default\", \"Default\", \"Default\", \"Default\", \"Default\", \"Default\", \"Default\", \"Topic1\", \"Topic1\", \"Topic1\", \"Topic1\", \"Topic1\", \"Topic1\", \"Topic1\", \"Topic1\", \"Topic1\", \"Topic1\", \"Topic1\", \"Topic1\", \"Topic1\", \"Topic1\", \"Topic1\", \"Topic1\", \"Topic1\", \"Topic1\", \"Topic1\", \"Topic2\", \"Topic2\", \"Topic2\", \"Topic2\", \"Topic2\", \"Topic2\", \"Topic2\", \"Topic2\", \"Topic2\", \"Topic2\", \"Topic2\", \"Topic2\", \"Topic2\", \"Topic2\", \"Topic2\", \"Topic2\", \"Topic3\", \"Topic3\", \"Topic3\", \"Topic3\", \"Topic3\", \"Topic3\", \"Topic3\", \"Topic3\", \"Topic3\", \"Topic3\", \"Topic3\", \"Topic3\", \"Topic3\", \"Topic3\", \"Topic3\", \"Topic3\", \"Topic3\", \"Topic3\", \"Topic4\", \"Topic4\", \"Topic4\", \"Topic4\", \"Topic4\", \"Topic4\", \"Topic4\", \"Topic4\", \"Topic4\", \"Topic4\", \"Topic4\", \"Topic4\", \"Topic4\", \"Topic4\", \"Topic4\", \"Topic4\", \"Topic4\", \"Topic4\", \"Topic4\", \"Topic4\", \"Topic4\", \"Topic5\", \"Topic5\", \"Topic5\", \"Topic5\", \"Topic5\", \"Topic5\", \"Topic5\", \"Topic5\", \"Topic5\", \"Topic5\", \"Topic5\", \"Topic5\", \"Topic5\", \"Topic5\", \"Topic5\", \"Topic5\", \"Topic5\", \"Topic5\", \"Topic5\", \"Topic5\", \"Topic6\", \"Topic6\", \"Topic6\", \"Topic6\", \"Topic6\", \"Topic6\", \"Topic6\", \"Topic6\", \"Topic6\", \"Topic6\", \"Topic6\", \"Topic6\", \"Topic6\", \"Topic6\", \"Topic6\", \"Topic6\", \"Topic6\", \"Topic6\", \"Topic7\", \"Topic7\", \"Topic7\", \"Topic7\", \"Topic7\", \"Topic7\", \"Topic7\", \"Topic7\", \"Topic7\", \"Topic7\", \"Topic7\", \"Topic7\", \"Topic7\", \"Topic7\", \"Topic7\", \"Topic7\", \"Topic7\", \"Topic8\", \"Topic8\", \"Topic8\", \"Topic8\", \"Topic8\", \"Topic8\", \"Topic8\", \"Topic8\", \"Topic8\", \"Topic8\", \"Topic8\", \"Topic8\", \"Topic8\", \"Topic8\", \"Topic9\", \"Topic9\", \"Topic9\", \"Topic9\", \"Topic9\", \"Topic9\", \"Topic9\", \"Topic9\", \"Topic9\", \"Topic9\", \"Topic9\", \"Topic9\", \"Topic9\"], \"Freq\": [26281.0, 9983.0, 7693.0, 12335.0, 10476.0, 19858.0, 14361.0, 12150.0, 5502.0, 10549.0, 5319.27392578125, 5035.7734375, 2771.644775390625, 2623.243408203125, 2532.46826171875, 2392.451416015625, 1685.754150390625, 1391.1619873046875, 1372.7352294921875, 1309.4010009765625, 8094.3544921875, 5305.3486328125, 6909.9169921875, 3327.994140625, 7736.35009765625, 4897.84423828125, 5300.2958984375, 4936.66259765625, 3784.048583984375, 9982.7158203125, 5636.22509765625, 5447.8876953125, 5221.6337890625, 3539.339599609375, 3277.928466796875, 2826.108154296875, 2774.913818359375, 2322.265869140625, 2310.014404296875, 16730.951171875, 8141.908203125, 10674.5751953125, 6925.08642578125, 5381.10302734375, 4039.012939453125, 4090.903076171875, 3970.459228515625, 2609.5693359375, 2307.1875, 1996.7794189453125, 1981.4329833984375, 1803.184326171875, 1524.0391845703125, 1505.80615234375, 1400.122314453125, 2105.412841796875, 4605.70263671875, 3123.256591796875, 4186.8564453125, 2396.87841796875, 4264.55908203125, 3242.4951171875, 2911.954833984375, 4313.3681640625, 3166.680908203125, 2875.458740234375, 2759.034423828125, 2308.57373046875, 2240.392333984375, 2086.046630859375, 1514.6788330078125, 1496.521484375, 1357.2930908203125, 2056.834716796875, 2757.60498046875, 3186.79150390625, 2533.4921875, 3415.346435546875, 4421.10302734375, 3924.421875, 3352.158935546875, 4129.67138671875, 3680.84619140625, 3270.854248046875, 3728.66357421875, 3044.430419921875, 2707.012451171875, 2069.66357421875, 1786.5888671875, 1434.679443359375, 1320.2470703125, 1235.8336181640625, 1204.3453369140625, 1188.9171142578125, 2702.00830078125, 1712.5308837890625, 1528.8370361328125, 1723.64794921875, 2369.0400390625, 1951.7117919921875, 2022.5596923828125, 2487.1650390625, 2367.466064453125, 2002.2408447265625, 5501.3125, 3458.187255859375, 2503.53369140625, 2361.589111328125, 2001.4312744140625, 1561.6561279296875, 1450.8564453125, 1200.7713623046875, 1201.9962158203125, 1181.6859130859375, 2487.28125, 3186.14501953125, 4208.2978515625, 2693.23193359375, 4430.044921875, 5305.56640625, 3120.178955078125, 2781.171142578125, 7692.51318359375, 4218.61181640625, 3413.1455078125, 2476.455078125, 2084.29833984375, 1990.2423095703125, 1877.6298828125, 1655.1759033203125, 1539.3934326171875, 1529.8330078125, 3057.594482421875, 3502.66015625, 7618.34912109375, 2872.837646484375, 5420.2158203125, 4330.0302734375, 2930.7607421875, 3188.062255859375, 2639.110107421875, 2242.7880859375, 2144.810546875, 1738.137451171875, 1659.6407470703125, 1447.8995361328125, 1438.8258056640625, 1382.333251953125, 1304.5146484375, 2002.3468017578125, 2469.374755859375, 2056.680908203125, 2381.818603515625, 3857.1552734375, 1827.8487548828125, 1641.93994140625, 1637.1209716796875, 1481.94140625, 1424.52490234375, 1203.30712890625, 1141.543701171875, 1126.8216552734375, 1035.6541748046875, 1397.3236083984375, 1804.0245361328125, 1156.771728515625], \"Term\": [\"help\", \"music\", \"project\", \"art\", \"story\", \"new\", \"book\", \"need\", \"app\", \"life\", \"child\", \"how\", \"tell\", \"know\", \"thing\", \"photography\", \"picture\", \"read\", \"think\", \"anywhere\", \"story\", \"love\", \"life\", \"learn\", \"book\", \"people\", \"can\", \"world\", \"will\", \"music\", \"musical\", \"album\", \"record\", \"performance\", \"song\", \"studio\", \"sound\", \"release\", \"creative\", \"help\", \"need\", \"new\", \"first\", \"make\", \"will\", \"game\", \"device\", \"web\", \"novel\", \"smartphone\", \"interactive\", \"camera\", \"datum\", \"classic\", \"science\", \"series\", \"play\", \"base\", \"book\", \"space\", \"new\", \"world\", \"art\", \"website\", \"photo\", \"would\", \"business\", \"company\", \"quality\", \"like\", \"ready\", \"sell\", \"solution\", \"next\", \"online\", \"free\", \"provide\", \"more\", \"make\", \"create\", \"want\", \"help\", \"will\", \"can\", \"when\", \"theater\", \"man\", \"program\", \"search\", \"step\", \"season\", \"wireless\", \"radio\", \"return\", \"see\", \"meet\", \"robot\", \"save\", \"find\", \"day\", \"home\", \"life\", \"world\", \"take\", \"app\", \"allow\", \"technology\", \"user\", \"site\", \"product\", \"card\", \"innovative\", \"ceramic\", \"computer\", \"3d\", \"easy\", \"-\", \"light\", \"design\", \"use\", \"build\", \"make\", \"project\", \"production\", \"raise\", \"perform\", \"collection\", \"source\", \"software\", \"teach\", \"network\", \"exhibition\", \"open\", \"student\", \"art\", \"fund\", \"help\", \"will\", \"create\", \"theatre\", \"magazine\", \"short\", \"film\", \"win\", \"charge\", \"american\", \"low\", \"document\", \"actor\", \"woman\", \"artist\", \"feature\", \"story\", \"phone\", \"color\", \"capture\", \"dance\", \"battery\", \"watch\", \"installation\", \"text\", \"touch\", \"case\", \"celebrate\", \"art\", \"explore\"], \"Total\": [26281.0, 9983.0, 7693.0, 12335.0, 10476.0, 19858.0, 14361.0, 12150.0, 5502.0, 10549.0, 5320.1904296875, 5036.68994140625, 2772.561767578125, 2624.16015625, 2533.38525390625, 2393.368408203125, 1686.6710205078125, 1392.078857421875, 1373.652099609375, 1310.3184814453125, 10476.9638671875, 7196.1005859375, 10549.5400390625, 4291.560546875, 14361.0595703125, 8135.685546875, 11507.0263671875, 13152.837890625, 18710.009765625, 9983.63671875, 5637.14453125, 5448.80615234375, 5222.552734375, 3540.259521484375, 3278.84765625, 2827.027587890625, 2775.833251953125, 2323.18505859375, 2310.934326171875, 26281.552734375, 12150.1826171875, 19858.474609375, 10743.861328125, 16256.5322265625, 18710.009765625, 4091.822265625, 3971.379150390625, 2610.48876953125, 2308.10693359375, 1997.699462890625, 1982.3525390625, 1804.1038818359375, 1524.9591064453125, 1506.7255859375, 1401.041748046875, 2824.182373046875, 11130.2548828125, 6076.609375, 14361.0595703125, 3909.869140625, 19858.474609375, 13152.837890625, 12335.021484375, 4314.294921875, 3167.607177734375, 2876.384765625, 2759.96044921875, 2309.500244140625, 2241.318359375, 2086.97265625, 1515.6051025390625, 1497.44775390625, 1358.219482421875, 2495.81201171875, 3923.430419921875, 4944.8583984375, 3557.109375, 7564.92138671875, 16256.5322265625, 14125.74609375, 9038.6083984375, 26281.552734375, 18710.009765625, 11507.0263671875, 3729.5732421875, 3045.341552734375, 2707.921875, 2070.5732421875, 1787.4984130859375, 1435.5888671875, 1321.1566162109375, 1236.7445068359375, 1205.2547607421875, 1189.8265380859375, 3450.71728515625, 2110.90380859375, 1849.2301025390625, 2332.6455078125, 5339.26123046875, 3633.885498046875, 4449.578125, 10549.5400390625, 13152.837890625, 7072.28076171875, 5502.25, 3459.12451171875, 2504.470947265625, 2362.5263671875, 2002.3687744140625, 1562.59326171875, 1451.7933349609375, 1201.7086181640625, 1202.94140625, 1182.623046875, 2757.885498046875, 3765.07958984375, 5403.47509765625, 3336.1650390625, 6874.2958984375, 10052.03125, 6675.05126953125, 16256.5322265625, 7693.45166015625, 4219.55078125, 3414.083740234375, 2477.393798828125, 2085.23681640625, 1991.180908203125, 1878.56884765625, 1656.114501953125, 1540.3321533203125, 1530.77197265625, 3639.33544921875, 4361.43310546875, 12335.021484375, 4919.74169921875, 26281.552734375, 18710.009765625, 14125.74609375, 3188.97412109375, 2640.019775390625, 2243.697265625, 2145.7197265625, 1739.0467529296875, 1660.55078125, 1448.808837890625, 1439.7354736328125, 1383.2425537109375, 1305.424560546875, 3859.757568359375, 7877.240234375, 4534.455078125, 10476.9638671875, 3858.060546875, 1828.75390625, 1642.844970703125, 1638.026123046875, 1482.8472900390625, 1425.4300537109375, 1204.212890625, 1142.4488525390625, 1127.726806640625, 1036.559326171875, 1742.7998046875, 12335.021484375, 4067.710205078125], \"loglift\": [10.0, 9.0, 8.0, 7.0, 6.0, 5.0, 4.0, 3.0, 2.0, 1.0, 1.8652000427246094, 1.8652000427246094, 1.8651000261306763, 1.8651000261306763, 1.8651000261306763, 1.8650000095367432, 1.86489999294281, 1.864799976348877, 1.864799976348877, 1.8646999597549438, 1.6073999404907227, 1.5606000423431396, 1.4422999620437622, 1.6110999584197998, 1.2467999458312988, 1.3580000400543213, 1.0901999473571777, 0.8855000138282776, 0.2671999931335449, 1.8894000053405762, 1.889299988746643, 1.889299988746643, 1.889299988746643, 1.88919997215271, 1.88919997215271, 1.8890999555587769, 1.8890999555587769, 1.8890999555587769, 1.8890999555587769, 1.4378999471664429, 1.4890999794006348, 1.2687000036239624, 1.4502999782562256, 0.7839000225067139, 0.3564000129699707, 2.0787999629974365, 2.0787999629974365, 2.078700065612793, 2.0785999298095703, 2.0785999298095703, 2.0785999298095703, 2.0785000324249268, 2.078399896621704, 2.078399896621704, 2.078399896621704, 1.7853000164031982, 1.1966999769210815, 1.4134999513626099, 0.8464999794960022, 1.5896999835968018, 0.5407000184059143, 0.6786999702453613, 0.6353999972343445, 2.085200071334839, 2.085099935531616, 2.085099935531616, 2.085099935531616, 2.0850000381469727, 2.0850000381469727, 2.0850000381469727, 2.0848000049591064, 2.0848000049591064, 2.084700107574463, 1.8919999599456787, 1.732800006866455, 1.6461000442504883, 1.7460999488830566, 1.2901999950408936, 0.78329998254776, 0.8046000003814697, 1.093500018119812, 0.23469999432563782, 0.4595000147819519, 0.8274999856948853, 2.206700086593628, 2.2065999507904053, 2.2065999507904053, 2.2065000534057617, 2.206399917602539, 2.2063000202178955, 2.206199884414673, 2.206199884414673, 2.2060999870300293, 2.2060999870300293, 1.9622999429702759, 1.9977999925613403, 2.0165998935699463, 1.9042999744415283, 1.3942999839782715, 1.5852999687194824, 1.4184000492095947, 0.7620000243186951, 0.4921000003814697, 0.9449999928474426, 2.3183999061584473, 2.3183000087738037, 2.31820011138916, 2.31820011138916, 2.3180999755859375, 2.318000078201294, 2.3178999423980713, 2.3178000450134277, 2.3178000450134277, 2.3178000450134277, 2.2153000831604004, 2.151599884033203, 2.0685999393463135, 2.1045000553131104, 1.8791999816894531, 1.6794999837875366, 1.5580999851226807, 0.5529000163078308, 2.360599994659424, 2.3605000972747803, 2.3605000972747803, 2.3603999614715576, 2.360300064086914, 2.360300064086914, 2.360300064086914, 2.3601999282836914, 2.360100030899048, 2.360100030899048, 2.1865999698638916, 2.1414999961853027, 1.8789000511169434, 1.8228000402450562, 0.7820000052452087, 0.8973000049591064, 0.7879999876022339, 2.506500005722046, 2.506500005722046, 2.5064001083374023, 2.5064001083374023, 2.5062999725341797, 2.5062999725341797, 2.506200075149536, 2.506200075149536, 2.506200075149536, 2.5060999393463135, 1.8504999876022339, 1.3467999696731567, 1.7161999940872192, 1.0255000591278076, 2.806999921798706, 2.8066999912261963, 2.8066000938415527, 2.8066000938415527, 2.8066000938415527, 2.8066000938415527, 2.8064000606536865, 2.8064000606536865, 2.8064000606536865, 2.806299924850464, 2.5862998962402344, 0.8848000168800354, 1.5497000217437744], \"logprob\": [10.0, 9.0, 8.0, 7.0, 6.0, 5.0, 4.0, 3.0, 2.0, 1.0, -4.1041998863220215, -4.158999919891357, -4.756100177764893, -4.811200141906738, -4.846399784088135, -4.903299808502197, -5.253399848937988, -5.445400238037109, -5.458799839019775, -5.50600004196167, -3.6844000816345215, -4.106900215148926, -3.842600107192993, -4.573200225830078, -3.7297000885009766, -4.186800003051758, -4.107800006866455, -4.178899765014648, -4.444799900054932, -3.450700044631958, -4.022299766540527, -4.056300163269043, -4.098700046539307, -4.487599849700928, -4.564300060272217, -4.712600231170654, -4.730899810791016, -4.908999919891357, -4.914299964904785, -2.934299945831299, -3.6545000076293945, -3.383699893951416, -3.8164000511169434, -4.068600177764893, -4.355500221252441, -4.153200149536133, -4.18310022354126, -4.602799892425537, -4.725900173187256, -4.8703999519348145, -4.878200054168701, -4.972400188446045, -5.140600204467773, -5.152599811553955, -5.225399971008301, -4.817500114440918, -4.0346999168396, -4.423099994659424, -4.130000114440918, -4.68779993057251, -4.111599922180176, -4.3856000900268555, -4.493199825286865, -4.093900203704834, -4.402900218963623, -4.4994001388549805, -4.5406999588012695, -4.718999862670898, -4.749000072479248, -4.820300102233887, -5.140399932861328, -5.152500152587891, -5.250100135803223, -4.834400177001953, -4.541200160980225, -4.396599769592285, -4.625999927520752, -4.327300071716309, -4.069200038909912, -4.188399791717529, -4.3460001945495605, -4.137400150299072, -4.252500057220459, -4.37060022354126, -4.118100166320801, -4.320799827575684, -4.438300132751465, -4.706699848175049, -4.853799819946289, -5.073200225830078, -5.156300067901611, -5.222400188446045, -5.248199939727783, -5.261099815368652, -4.440100193023682, -4.896100044250488, -5.0096001625061035, -4.889699935913086, -4.571599960327148, -4.765399932861328, -4.729700088500977, -4.5229997634887695, -4.572299957275391, -4.739799976348877, -3.617500066757202, -4.081699848175049, -4.404699802398682, -4.463099956512451, -4.628600120544434, -4.876699924468994, -4.950300216674805, -5.139500141143799, -5.138500213623047, -5.1554999351501465, -4.411200046539307, -4.163599967956543, -3.8854000568389893, -4.331699848175049, -3.8340001106262207, -3.653700113296509, -4.184500217437744, -4.299600124359131, -3.240000009536743, -3.8406999111175537, -4.052599906921387, -4.3734002113342285, -4.54580020904541, -4.5920000076293945, -4.650199890136719, -4.776299953460693, -4.848899841308594, -4.855100154876709, -4.162600040435791, -4.026700019836426, -3.2497000694274902, -4.224899768829346, -3.590100049972534, -3.81469988822937, -4.204999923706055, -3.9748001098632812, -4.163700103759766, -4.326499938964844, -4.371099948883057, -4.581399917602539, -4.627600193023682, -4.764100074768066, -4.770400047302246, -4.810400009155273, -4.8684000968933105, -4.439899921417236, -4.230199813842773, -4.413099765777588, -4.266300201416016, -3.4839000701904297, -4.2307000160217285, -4.337900161743164, -4.34089994430542, -4.440499782562256, -4.480000019073486, -4.64870023727417, -4.701399803161621, -4.714399814605713, -4.798799991607666, -4.499300003051758, -4.243800163269043, -4.688199996948242]}, \"token.table\": {\"Topic\": [3, 6, 3, 6, 8, 2, 6, 8, 1, 6, 3, 7, 9, 2, 3, 4, 8, 2, 3, 7, 8, 9, 1, 3, 7, 8, 3, 4, 6, 7, 4, 3, 1, 2, 4, 6, 9, 6, 9, 4, 9, 6, 8, 1, 3, 7, 9, 4, 6, 1, 2, 3, 4, 6, 7, 8, 2, 9, 3, 4, 5, 8, 9, 3, 4, 6, 3, 8, 1, 6, 7, 1, 3, 8, 9, 3, 6, 7, 8, 8, 1, 5, 2, 3, 7, 3, 4, 6, 7, 2, 7, 3, 2, 4, 7, 1, 4, 5, 6, 7, 1, 6, 9, 3, 1, 1, 3, 1, 5, 8, 1, 6, 4, 1, 2, 4, 5, 8, 8, 1, 2, 4, 6, 5, 3, 5, 1, 2, 3, 4, 6, 2, 2, 2, 4, 7, 7, 2, 3, 4, 6, 7, 4, 7, 3, 3, 4, 3, 7, 1, 4, 8, 7, 2, 9, 4, 1, 1, 1, 2, 3, 6, 6, 7, 5, 7, 3, 4, 8, 4, 5, 7, 1, 4, 2, 2, 5, 1, 5, 1, 5, 3, 5, 5, 4, 5, 4, 1, 3, 7, 8, 6, 3, 7, 4, 2, 2, 7, 3, 4, 5, 1, 8, 7, 8, 2, 1, 2, 3, 4, 5, 7, 6, 1, 9, 5, 8, 1, 1, 9, 1, 3, 4, 6, 7, 9, 6, 1, 2, 4, 9, 3, 4, 5, 1, 2, 3, 4, 5, 6, 7, 8, 5, 1, 5, 8, 1, 2, 3, 5, 8, 9, 4], \"Freq\": [0.22096890211105347, 0.7787581086158752, 0.09790109097957611, 0.9017778038978577, 0.9996747970581055, 0.9998520612716675, 0.999674916267395, 0.9994417428970337, 0.9989937543869019, 0.999772846698761, 0.23607578873634338, 0.617591142654419, 0.14625024795532227, 0.457139790058136, 0.11679217219352722, 0.1124759390950203, 0.3134346306324005, 0.15205848217010498, 0.5139379501342773, 0.14465303719043732, 0.1890857070684433, 0.9994286298751831, 0.5386789441108704, 0.2915523052215576, 0.16767564415931702, 0.002019349718466401, 0.10247112065553665, 0.2949790060520172, 0.46741214394569397, 0.1349802315235138, 0.9996520280838013, 0.9993880987167358, 0.46058815717697144, 0.1561654508113861, 0.2842611074447632, 0.0988960936665535, 0.9994856715202332, 0.9994535446166992, 0.9994603991508484, 0.1979573369026184, 0.8015837669372559, 0.9992173910140991, 0.999668300151825, 0.9997762441635132, 0.9995184540748596, 0.9994068741798401, 0.9995877742767334, 0.9997833967208862, 0.9994731545448303, 0.061660461127758026, 0.1330903172492981, 0.14703647792339325, 0.2777906358242035, 0.16140739619731903, 0.20749346911907196, 0.011539213359355927, 0.9995957016944885, 0.9993735551834106, 0.9993710517883301, 0.17006589472293854, 0.5371660590171814, 0.169240340590477, 0.12355920672416687, 0.21936792135238647, 0.13615940511226654, 0.644429624080658, 0.9996527433395386, 0.9991016983985901, 0.1535160094499588, 0.846197247505188, 0.9994956851005554, 0.25223034620285034, 0.1688910871744156, 0.29451459646224976, 0.2844352126121521, 0.2886785566806793, 0.11357484012842178, 0.14400848746299744, 0.4536377489566803, 0.9996646046638489, 0.5560694336891174, 0.4436943531036377, 0.6445541381835938, 0.20467501878738403, 0.1506907045841217, 0.0897902324795723, 0.6445078253746033, 0.14965039491653442, 0.11608017235994339, 0.41587549448013306, 0.58397376537323, 0.9997990727424622, 0.6366062164306641, 0.1571444422006607, 0.20622830092906952, 0.08517661690711975, 0.22136929631233215, 0.45464983582496643, 0.163386270403862, 0.07551277428865433, 0.9998630285263062, 0.9994103312492371, 0.9989928007125854, 0.9993177056312561, 0.9995579123497009, 0.7754755020141602, 0.22439390420913696, 0.6550048589706421, 0.2357448786497116, 0.10919907689094543, 0.19243651628494263, 0.8072142601013184, 0.9995339512825012, 0.7372047901153564, 0.08726948499679565, 0.09463458508253098, 0.08073817193508148, 0.9994891881942749, 0.9996137022972107, 0.22593994438648224, 0.33100539445877075, 0.27195221185684204, 0.1710696965456009, 0.999659538269043, 0.18854482471942902, 0.8115007281303406, 0.2185085564851761, 0.083411306142807, 0.1732998788356781, 0.451425701379776, 0.0732327476143837, 0.9999362230300903, 0.999796986579895, 0.6701133847236633, 0.20551131665706635, 0.12427796423435211, 0.9991351366043091, 0.5375538468360901, 0.21476976573467255, 0.11939486861228943, 0.018732557073235512, 0.10952503234148026, 0.8241806626319885, 0.175493985414505, 0.9995204210281372, 0.29693403840065, 0.7029562592506409, 0.15964452922344208, 0.840263307094574, 0.6020389795303345, 0.30679652094841003, 0.09108021855354309, 0.9994373917579651, 0.9996442198753357, 0.9997251033782959, 0.9998083114624023, 0.9994282722473145, 0.9996021389961243, 0.2225465625524521, 0.3103253245353699, 0.41382700204849243, 0.053278204053640366, 0.9996203184127808, 0.9998694658279419, 0.9997231364250183, 0.9999412894248962, 0.1321297585964203, 0.7120950818061829, 0.155463308095932, 0.9994118213653564, 0.998958945274353, 0.9996825456619263, 0.9992250204086304, 0.9996007680892944, 0.9998941421508789, 0.9994899034500122, 0.9993053078651428, 0.17304499447345734, 0.8268305659294128, 0.260648250579834, 0.7390750050544739, 0.999256432056427, 0.9997211694717407, 0.9991245269775391, 0.21676652133464813, 0.7830256223678589, 0.9997009634971619, 0.1175561472773552, 0.7453484535217285, 0.13667672872543335, 0.9996892213821411, 0.999316394329071, 0.9996498823165894, 0.999697208404541, 0.9991021752357483, 0.9997414946556091, 0.9996998310089111, 0.9994069337844849, 0.6130639910697937, 0.3867137134075165, 0.9995898008346558, 0.7725520730018616, 0.2273559421300888, 0.8031763434410095, 0.1967243254184723, 0.9996365308761597, 0.1993699073791504, 0.15327446162700653, 0.11439025402069092, 0.24970728158950806, 0.2830770015716553, 0.9993270635604858, 0.9998119473457336, 0.9997974038124084, 0.9996070861816406, 0.9995594620704651, 0.9996945261955261, 0.9994531869888306, 0.9995253086090088, 0.9993554949760437, 0.0703340396285057, 0.15389923751354218, 0.11430525779724121, 0.5278534889221191, 0.09182223677635193, 0.04188208281993866, 0.9997771978378296, 0.382802277803421, 0.24627685546875, 0.3708535432815552, 0.999698281288147, 0.9998127818107605, 0.9996998310089111, 0.9998462796211243, 0.20224468410015106, 0.21587374806404114, 0.04174236208200455, 0.19673961400985718, 0.10673431307077408, 0.00518439058214426, 0.2314269244670868, 0.9993981122970581, 0.9993979930877686, 0.16529536247253418, 0.315822958946228, 0.5186854004859924, 0.3753562569618225, 0.1430109590291977, 0.24648672342300415, 0.179961159825325, 0.054893095046281815, 0.00022808766516391188, 0.9995185732841492], \"Term\": [\"-\", \"-\", \"3d\", \"3d\", \"actor\", \"album\", \"allow\", \"american\", \"anywhere\", \"app\", \"art\", \"art\", \"art\", \"artist\", \"artist\", \"artist\", \"artist\", \"base\", \"base\", \"base\", \"base\", \"battery\", \"book\", \"book\", \"book\", \"book\", \"build\", \"build\", \"build\", \"build\", \"business\", \"camera\", \"can\", \"can\", \"can\", \"can\", \"capture\", \"card\", \"case\", \"celebrate\", \"celebrate\", \"ceramic\", \"charge\", \"child\", \"classic\", \"collection\", \"color\", \"company\", \"computer\", \"create\", \"create\", \"create\", \"create\", \"create\", \"create\", \"create\", \"creative\", \"dance\", \"datum\", \"day\", \"day\", \"day\", \"day\", \"design\", \"design\", \"design\", \"device\", \"document\", \"easy\", \"easy\", \"exhibition\", \"explore\", \"explore\", \"explore\", \"explore\", \"feature\", \"feature\", \"feature\", \"feature\", \"film\", \"find\", \"find\", \"first\", \"first\", \"first\", \"free\", \"free\", \"free\", \"free\", \"fund\", \"fund\", \"game\", \"help\", \"help\", \"help\", \"home\", \"home\", \"home\", \"home\", \"home\", \"how\", \"innovative\", \"installation\", \"interactive\", \"know\", \"learn\", \"learn\", \"life\", \"life\", \"life\", \"light\", \"light\", \"like\", \"love\", \"love\", \"love\", \"love\", \"low\", \"magazine\", \"make\", \"make\", \"make\", \"make\", \"man\", \"meet\", \"meet\", \"more\", \"more\", \"more\", \"more\", \"more\", \"music\", \"musical\", \"need\", \"need\", \"need\", \"network\", \"new\", \"new\", \"new\", \"new\", \"new\", \"next\", \"next\", \"novel\", \"online\", \"online\", \"open\", \"open\", \"people\", \"people\", \"people\", \"perform\", \"performance\", \"phone\", \"photo\", \"photography\", \"picture\", \"play\", \"play\", \"play\", \"play\", \"product\", \"production\", \"program\", \"project\", \"provide\", \"provide\", \"provide\", \"quality\", \"radio\", \"raise\", \"read\", \"ready\", \"record\", \"release\", \"return\", \"robot\", \"robot\", \"save\", \"save\", \"science\", \"search\", \"season\", \"see\", \"see\", \"sell\", \"series\", \"series\", \"series\", \"short\", \"site\", \"smartphone\", \"software\", \"solution\", \"song\", \"sound\", \"source\", \"space\", \"space\", \"step\", \"story\", \"story\", \"student\", \"student\", \"studio\", \"take\", \"take\", \"take\", \"take\", \"take\", \"teach\", \"technology\", \"tell\", \"text\", \"theater\", \"theatre\", \"thing\", \"think\", \"touch\", \"use\", \"use\", \"use\", \"use\", \"use\", \"use\", \"user\", \"want\", \"want\", \"want\", \"watch\", \"web\", \"website\", \"when\", \"will\", \"will\", \"will\", \"will\", \"will\", \"will\", \"will\", \"win\", \"wireless\", \"woman\", \"woman\", \"woman\", \"world\", \"world\", \"world\", \"world\", \"world\", \"world\", \"would\"]}, \"R\": 10, \"lambda.step\": 0.01, \"plot.opts\": {\"xlab\": \"PC1\", \"ylab\": \"PC2\"}, \"topic.order\": [4, 3, 6, 5, 8, 9, 1, 2, 7]};\n",
       "\n",
       "function LDAvis_load_lib(url, callback){\n",
       "  var s = document.createElement('script');\n",
       "  s.src = url;\n",
       "  s.async = true;\n",
       "  s.onreadystatechange = s.onload = callback;\n",
       "  s.onerror = function(){console.warn(\"failed to load library \" + url);};\n",
       "  document.getElementsByTagName(\"head\")[0].appendChild(s);\n",
       "}\n",
       "\n",
       "if(typeof(LDAvis) !== \"undefined\"){\n",
       "   // already loaded: just create the visualization\n",
       "   !function(LDAvis){\n",
       "       new LDAvis(\"#\" + \"ldavis_el1160057631715366420197481\", ldavis_el1160057631715366420197481_data);\n",
       "   }(LDAvis);\n",
       "}else if(typeof define === \"function\" && define.amd){\n",
       "   // require.js is available: use it to load d3/LDAvis\n",
       "   require.config({paths: {d3: \"https://cdnjs.cloudflare.com/ajax/libs/d3/3.5.5/d3.min\"}});\n",
       "   require([\"d3\"], function(d3){\n",
       "      window.d3 = d3;\n",
       "      LDAvis_load_lib(\"https://cdn.rawgit.com/bmabey/pyLDAvis/files/ldavis.v1.0.0.js\", function(){\n",
       "        new LDAvis(\"#\" + \"ldavis_el1160057631715366420197481\", ldavis_el1160057631715366420197481_data);\n",
       "      });\n",
       "    });\n",
       "}else{\n",
       "    // require.js not available: dynamically load d3 & LDAvis\n",
       "    LDAvis_load_lib(\"https://cdnjs.cloudflare.com/ajax/libs/d3/3.5.5/d3.min.js\", function(){\n",
       "         LDAvis_load_lib(\"https://cdn.rawgit.com/bmabey/pyLDAvis/files/ldavis.v1.0.0.js\", function(){\n",
       "                 new LDAvis(\"#\" + \"ldavis_el1160057631715366420197481\", ldavis_el1160057631715366420197481_data);\n",
       "            })\n",
       "         });\n",
       "}\n",
       "</script>"
      ],
      "text/plain": [
       "PreparedData(topic_coordinates=              x         y  topics  cluster       Freq\n",
       "topic                                                \n",
       "3     -0.113925  0.175562       1        1  15.483143\n",
       "2     -0.209352  0.019013       2        1  15.115235\n",
       "5      0.018423 -0.083585       3        1  12.505174\n",
       "4     -0.166500 -0.102389       4        1  12.425736\n",
       "7     -0.012044  0.268410       5        1  11.004175\n",
       "8      0.015420 -0.261295       6        1   9.841488\n",
       "0     -0.083517 -0.129254       7        1   9.434878\n",
       "1      0.162306  0.172983       8        1   8.152736\n",
       "6      0.389190 -0.059446       9        1   6.037435, topic_info=     Category          Freq       Term         Total  loglift  logprob\n",
       "41    Default  26281.000000       help  26281.000000  10.0000  10.0000\n",
       "1065  Default   9983.000000      music   9983.000000   9.0000   9.0000\n",
       "290   Default   7693.000000    project   7693.000000   8.0000   8.0000\n",
       "199   Default  12335.000000        art  12335.000000   7.0000   7.0000\n",
       "436   Default  10476.000000      story  10476.000000   6.0000   6.0000\n",
       "...       ...           ...        ...           ...      ...      ...\n",
       "868    Topic9   1126.821655      touch   1127.726807   2.8064  -4.7144\n",
       "1465   Topic9   1035.654175       case   1036.559326   2.8063  -4.7988\n",
       "3239   Topic9   1397.323608  celebrate   1742.799805   2.5863  -4.4993\n",
       "199    Topic9   1804.024536        art  12335.021484   0.8848  -4.2438\n",
       "372    Topic9   1156.771729    explore   4067.710205   1.5497  -4.6882\n",
       "\n",
       "[166 rows x 6 columns], token_table=      Topic      Freq   Term\n",
       "term                        \n",
       "276       3  0.220969      -\n",
       "276       6  0.778758      -\n",
       "501       3  0.097901     3d\n",
       "501       6  0.901778     3d\n",
       "712       8  0.999675  actor\n",
       "...     ...       ...    ...\n",
       "12        3  0.246487  world\n",
       "12        5  0.179961  world\n",
       "12        8  0.054893  world\n",
       "12        9  0.000228  world\n",
       "1078      4  0.999519  would\n",
       "\n",
       "[253 rows x 3 columns], R=10, lambda_step=0.01, plot_opts={'xlab': 'PC1', 'ylab': 'PC2'}, topic_order=[4, 3, 6, 5, 8, 9, 1, 2, 7])"
      ]
     },
     "execution_count": 101,
     "metadata": {},
     "output_type": "execute_result"
    }
   ],
   "source": [
    "import pyLDAvis\n",
    "import pyLDAvis.gensim\n",
    "\n",
    "pyLDAvis.enable_notebook()\n",
    "pyLDAvis.gensim.prepare(lda, corpus, dictionary, R=10)"
   ]
  },
  {
   "cell_type": "code",
   "execution_count": 175,
   "metadata": {},
   "outputs": [
    {
     "name": "stdout",
     "output_type": "stream",
     "text": [
      "{0: ['project', 'art', 'help', 'will', 'production', 'student', 'raise', 'open',\n",
      "     'create', 'fund'],\n",
      " 1: ['theatre', 'magazine', 'artist', 'story', 'short', 'film', 'feature',\n",
      "     'woman', 'win', 'charge'],\n",
      " 2: ['help', 'new', 'music', 'need', 'first', 'musical', 'album', 'make',\n",
      "     'record', 'will'],\n",
      " 3: ['story', 'book', 'life', 'child', 'love', 'can', 'how', 'world', 'people',\n",
      "     'will'],\n",
      " 4: ['make', 'website', 'help', 'create', 'will', 'more', 'want', 'can', 'free',\n",
      "     'photo'],\n",
      " 5: ['play', 'new', 'book', 'game', 'device', 'world', 'base', 'art', 'web',\n",
      "     'space'],\n",
      " 6: ['phone', 'color', 'art', 'capture', 'dance', 'battery', 'watch',\n",
      "     'celebrate', 'installation', 'explore'],\n",
      " 7: ['when', 'theater', 'man', 'see', 'life', 'find', 'world', 'program',\n",
      "     'home', 'take'],\n",
      " 8: ['app', 'use', 'design', '-', 'allow', 'easy', 'build', 'make', 'light',\n",
      "     'technology']}\n"
     ]
    }
   ],
   "source": [
    "def get_topic_words(lda, dictionary, k):\n",
    "    words = dict()\n",
    "    for i in range(lda.num_topics):\n",
    "        words[i] = [dictionary[tokenid] for tokenid, _ in lda.get_topic_terms(i, k)]\n",
    "    return words\n",
    "\n",
    "pprint(get_topic_words(lda, dictionary, 10), compact=True)"
   ]
  },
  {
   "cell_type": "code",
   "execution_count": 165,
   "metadata": {},
   "outputs": [
    {
     "data": {
      "application/vnd.jupyter.widget-view+json": {
       "model_id": "86e2c7b8c6f943afad6be08a0be12a68",
       "version_major": 2,
       "version_minor": 0
      },
      "text/plain": [
       "HBox(children=(IntProgress(value=1, bar_style='info', max=1), HTML(value='')))"
      ]
     },
     "metadata": {},
     "output_type": "display_data"
    },
    {
     "name": "stdout",
     "output_type": "stream",
     "text": [
      "\n"
     ]
    },
    {
     "data": {
      "image/png": "[encoded data removed]",
      "text/plain": [
       "<Figure size 432x288 with 1 Axes>"
      ]
     },
     "metadata": {
      "needs_background": "light"
     },
     "output_type": "display_data"
    }
   ],
   "source": [
    "from collections import Counter\n",
    "topic_state_dist = Counter()\n",
    "for i,doc in tqdm(enumerate(corpus)):\n",
    "    for topic in lda.get_document_topics(doc):\n",
    "        topic_state_dist[topic[0]] += df['state'][i]\n",
    "\n",
    "plt.bar(topic_state_dist.keys(), topic_state_dist.values(), align='center')\n",
    "plt.show()"
   ]
  },
  {
   "cell_type": "code",
   "execution_count": 258,
   "metadata": {},
   "outputs": [
    {
     "data": {
      "application/vnd.jupyter.widget-view+json": {
       "model_id": "61d839d5bfb34dc28dbc85d36bc574c2",
       "version_major": 2,
       "version_minor": 0
      },
      "text/plain": [
       "HBox(children=(IntProgress(value=1, bar_style='info', max=1), HTML(value='')))"
      ]
     },
     "metadata": {},
     "output_type": "display_data"
    },
    {
     "name": "stdout",
     "output_type": "stream",
     "text": [
      "\n"
     ]
    },
    {
     "data": {
      "image/png": "[encoded data removed]",
      "text/plain": [
       "<Figure size 432x288 with 1 Axes>"
      ]
     },
     "metadata": {
      "needs_background": "light"
     },
     "output_type": "display_data"
    },
    {
     "data": {
      "image/png": "[encoded data removed]",
      "text/plain": [
       "<Figure size 432x288 with 1 Axes>"
      ]
     },
     "metadata": {
      "needs_background": "light"
     },
     "output_type": "display_data"
    }
   ],
   "source": [
    "from collections import defaultdict\n",
    "success_topics = defaultdict(int)\n",
    "failed_topics = defaultdict(int)\n",
    "for i,state in tqdm(enumerate(df['state'])):\n",
    "    top_topic = sorted(lda.get_document_topics(corpus[i]), key=lambda x: x[1])[-1][0]\n",
    "    if state:\n",
    "        success_topics[top_topic] += 1\n",
    "    else:\n",
    "        failed_topics[top_topic] += 1\n",
    "\n",
    "plt.bar(failed_topics.keys(), failed_topics.values())\n",
    "plt.suptitle('failed')\n",
    "plt.xlabel('topic')\n",
    "plt.ylabel('# of failed startups')\n",
    "plt.show()\n",
    "plt.bar(success_topics.keys(), success_topics.values())\n",
    "plt.suptitle('success')\n",
    "plt.xlabel('topics')\n",
    "plt.ylabel('# of succeded startups')\n",
    "plt.show()"
   ]
  },
  {
   "cell_type": "code",
   "execution_count": null,
   "metadata": {},
   "outputs": [],
   "source": []
  }
 ],
 "metadata": {
  "kernelspec": {
   "display_name": "Python 3",
   "language": "python",
   "name": "python3"
  },
  "language_info": {
   "codemirror_mode": {
    "name": "ipython",
    "version": 3
   },
   "file_extension": ".py",
   "mimetype": "text/x-python",
   "name": "python",
   "nbconvert_exporter": "python",
   "pygments_lexer": "ipython3",
   "version": "3.7.4"
  }
 },
 "nbformat": 4,
 "nbformat_minor": 2
}
